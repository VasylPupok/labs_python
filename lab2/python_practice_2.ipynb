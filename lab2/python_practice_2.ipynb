{
  "cells": [
    {
      "attachments": {},
      "cell_type": "markdown",
      "metadata": {
        "id": "p9wwt0LZzNvn"
      },
      "source": [
        "# I. Змінні та памʼять."
      ]
    },
    {
      "attachments": {},
      "cell_type": "markdown",
      "metadata": {
        "id": "HTJrrm95xSV9"
      },
      "source": [
        "1. Створити змінні, що посилаються на два цілих числа, що однакові за значенням, де значення належить проміжку від -5 до 256. Перевірте, чи будуть ці змінні рівні тільки за значенням або ж ще будуть посилатися на один і той самий обʼєкт в памʼяті? Наведіть код та дайте текстову відповідь нижче."
      ]
    },
    {
      "cell_type": "code",
      "execution_count": 39,
      "metadata": {
        "id": "TATni2vzayjG"
      },
      "outputs": [
        {
          "name": "stdout",
          "output_type": "stream",
          "text": [
            "a == b\n",
            "a is placed in the same memory address as b\n"
          ]
        }
      ],
      "source": [
        "a = 5\n",
        "b = 5\n",
        "if a == b:\n",
        "    print(\"a == b\")\n",
        "if id(a) == id(b):\n",
        "    print(\"a is placed in the same memory address as b\")"
      ]
    },
    {
      "attachments": {},
      "cell_type": "markdown",
      "metadata": {
        "id": "zfRG_o3WbRdg"
      },
      "source": [
        "Цілочисельні значення від -5 до 256 зберігаються у кеші, який створюється на початку роботи програми, а тому кожна змінна із такими значеннями буде посилатись на один і той самий існуючий об'єкт у пам'яті"
      ]
    },
    {
      "attachments": {},
      "cell_type": "markdown",
      "metadata": {
        "id": "ISORzt6M3vAt"
      },
      "source": [
        "2. За допомогою якої функції можна перевірити належність змінної до вказаного типу даних (напр. чи змінна True посилається на значення булевого та цілочисленого типу)?"
      ]
    },
    {
      "cell_type": "code",
      "execution_count": 40,
      "metadata": {
        "id": "9vL9CFaMbfyo"
      },
      "outputs": [
        {
          "name": "stdout",
          "output_type": "stream",
          "text": [
            "<class 'bool'>\n",
            "<class 'bool'>\n",
            "<class 'int'>\n",
            "<class 'NoneType'>\n",
            "<class 'type'>\n",
            "<class 'type'>\n",
            "<class '__main__.SomeCustomType'>\n",
            "<class '__main__.SomeCustomType'>\n"
          ]
        }
      ],
      "source": [
        "class SomeCustomType:\n",
        "    pass\n",
        "\n",
        "var = SomeCustomType()\n",
        "\n",
        "print(type(True))\n",
        "print(type(False))\n",
        "print(type(3))\n",
        "print(type(None))\n",
        "print(type(bool))\n",
        "print(type(SomeCustomType))\n",
        "print(type(SomeCustomType()))\n",
        "print(type(var))"
      ]
    },
    {
      "attachments": {},
      "cell_type": "markdown",
      "metadata": {
        "id": "tRxugKAxwYLw"
      },
      "source": [
        "# II. Цілі числа та числа з рухомою комою"
      ]
    },
    {
      "attachments": {},
      "cell_type": "markdown",
      "metadata": {
        "id": "NLHkgd5Gybc8"
      },
      "source": [
        "3. Створити дві змінні, що посилаються на будь-які ціле число та число з рухомою комою та продемонструвати такі арифметичні операції: додавання, віднімання, ділення, множення, ділення без залишку, ділення по модулю, приведення до ступеню. Всі результати операцій вивести на екран."
      ]
    },
    {
      "cell_type": "code",
      "execution_count": 1,
      "metadata": {
        "id": "nb8u_3pjb2cA"
      },
      "outputs": [
        {
          "name": "stdout",
          "output_type": "stream",
          "text": [
            "10.5\n",
            "-0.5\n",
            "27.5\n",
            "0.9090909090909091\n",
            "5.0\n",
            "0.0\n",
            "6987.712429686842\n"
          ]
        }
      ],
      "source": [
        "int_var = 5\n",
        "float_var = 5.5\n",
        "print(str(int_var + float_var))\n",
        "print(str(int_var - float_var))\n",
        "print(str(int_var * float_var))\n",
        "print(str(int_var / float_var))\n",
        "print(str(int_var % float_var))\n",
        "print(str(int_var // float_var))\n",
        "print(str(int_var ** float_var))"
      ]
    },
    {
      "attachments": {},
      "cell_type": "markdown",
      "metadata": {
        "id": "1kBClKgPzZnC"
      },
      "source": [
        "4. Використовуючи змінні з вправи 3, продемонструйте механізм явного перетворення типів, де числа з рухомою комою перетворюються на цілі числа. Також визначте змінну, що посилається на значення булевого типу і спробуйте явно привести її до цілого числа."
      ]
    },
    {
      "cell_type": "code",
      "execution_count": null,
      "metadata": {
        "id": "TbqJbkeUcKsD"
      },
      "outputs": [
        {
          "name": "stdout",
          "output_type": "stream",
          "text": [
            "10\n",
            "0\n",
            "25\n",
            "1.0\n",
            "0\n",
            "1\n",
            "3125\n",
            "6\n",
            "4\n",
            "5\n",
            "5.0\n",
            "0\n",
            "5\n",
            "1\n"
          ]
        }
      ],
      "source": [
        "int_var = 5\n",
        "float_var = 5.5\n",
        "print(str(int_var + int(float_var)))\n",
        "print(str(int_var - int(float_var)))\n",
        "print(str(int_var * int(float_var)))\n",
        "print(str(int_var / int(float_var)))\n",
        "print(str(int_var % int(float_var)))\n",
        "print(str(int_var // int(float_var)))\n",
        "print(str(int_var ** int(float_var)))\n",
        "\n",
        "print(str(int_var + int(True)))\n",
        "print(str(int_var - int(True)))\n",
        "print(str(int_var * int(True)))\n",
        "print(str(int_var / int(True)))\n",
        "print(str(int_var % int(True)))\n",
        "print(str(int_var // int(True)))\n",
        "print(str(int_var ** int(False)))"
      ]
    },
    {
      "attachments": {},
      "cell_type": "markdown",
      "metadata": {
        "id": "EVJ7AflwxrZi"
      },
      "source": [
        "# IІІ. Рядки (String)."
      ]
    },
    {
      "attachments": {},
      "cell_type": "markdown",
      "metadata": {
        "id": "_s5ECzz9zE61"
      },
      "source": [
        "5. Створити пустий рядок двома різними способами."
      ]
    },
    {
      "cell_type": "code",
      "execution_count": null,
      "metadata": {
        "id": "fkZJHu9Scvc-"
      },
      "outputs": [
        {
          "name": "stdout",
          "output_type": "stream",
          "text": [
            "\n",
            "\n",
            "\u0000\n",
            "\u0000\n"
          ]
        }
      ],
      "source": [
        "a = ''\n",
        "b = \"\"\n",
        "c = '\\0'\n",
        "d = \"\\0\"\n",
        "\n",
        "print(a)\n",
        "print(b)\n",
        "print(c)\n",
        "print(d)"
      ]
    },
    {
      "attachments": {},
      "cell_type": "markdown",
      "metadata": {
        "id": "4Bdn9J3MzLf_"
      },
      "source": [
        "6. Створити рядок з апострофом. Зробити його сирим. Вивести обидва рядка на екран."
      ]
    },
    {
      "cell_type": "code",
      "execution_count": null,
      "metadata": {
        "id": "ivji_hsmc0GH"
      },
      "outputs": [
        {
          "name": "stdout",
          "output_type": "stream",
          "text": [
            "Chewsday, isn't it\n",
            "Chewsday, isn't it\n"
          ]
        }
      ],
      "source": [
        "string = \"Chewsday, isn't it\"\n",
        "str = 'Chewsday, isn\\'t it'\n",
        "print(string)\n",
        "print(str)"
      ]
    },
    {
      "attachments": {},
      "cell_type": "markdown",
      "metadata": {
        "id": "bg_d8wM4z8dS"
      },
      "source": [
        "7. Створити змінну, що буде посилатися на Ваше прізвище латинкою. Створити форматований рядок, який буде мати вигляд \"My surname is ______\", де на місці нижніх підкреслень буде Ваше прізвище зі змінної."
      ]
    },
    {
      "cell_type": "code",
      "execution_count": null,
      "metadata": {
        "id": "kuxFgpWndACq"
      },
      "outputs": [
        {
          "name": "stdout",
          "output_type": "stream",
          "text": [
            "My surname is Deineka\n"
          ]
        }
      ],
      "source": [
        "surname = \"Deineka\"\n",
        "print(f\"My surname is {surname}\")"
      ]
    },
    {
      "attachments": {},
      "cell_type": "markdown",
      "metadata": {
        "id": "1Nc6RqvQ0hxU"
      },
      "source": [
        "8. Маючи рядок \"My dog is crazy.\" перетворити його на список [\"my\", \"dog\", \"is\", \"crazy\"]"
      ]
    },
    {
      "cell_type": "code",
      "execution_count": null,
      "metadata": {
        "id": "w1Ya4RqedUhw"
      },
      "outputs": [
        {
          "name": "stdout",
          "output_type": "stream",
          "text": [
            "['My', 'dog', 'is', 'crazy']\n"
          ]
        }
      ],
      "source": [
        "print(\"My dog is crazy\".split(\" \"))"
      ]
    },
    {
      "attachments": {},
      "cell_type": "markdown",
      "metadata": {
        "id": "GYVqN9uP1D4n"
      },
      "source": [
        "# IV. Робота зі списками."
      ]
    },
    {
      "attachments": {},
      "cell_type": "markdown",
      "metadata": {
        "id": "7-DeDunw2sO-"
      },
      "source": [
        "9. Створити список двома різними за синтаксисом способами. За допомогою вбудованої функції обчисліть довжину одного з них."
      ]
    },
    {
      "cell_type": "code",
      "execution_count": null,
      "metadata": {
        "id": "zxg06Uuxdyoh"
      },
      "outputs": [
        {
          "name": "stdout",
          "output_type": "stream",
          "text": [
            "3\n"
          ]
        }
      ],
      "source": [
        "l0 = [1, 2, 3]\n",
        "l1 = [1, 2, 3]\n",
        "print(len(l1))"
      ]
    },
    {
      "attachments": {},
      "cell_type": "markdown",
      "metadata": {
        "id": "8vmGUTjL22gI"
      },
      "source": [
        "10. Створіть два списка та за допомогою спеціального методу додайте другий з них в якості останнього елемента першого."
      ]
    },
    {
      "cell_type": "code",
      "execution_count": null,
      "metadata": {
        "id": "uHtjWYw7d7hm"
      },
      "outputs": [
        {
          "name": "stdout",
          "output_type": "stream",
          "text": [
            "(1, 2, 3, (1, 2, 3))\n"
          ]
        }
      ],
      "source": [
        "l0 = [1, 2, 3]\n",
        "l1 = [1, 2, 3]\n",
        "l0.append(l1)\n",
        "print(l0)"
      ]
    },
    {
      "attachments": {},
      "cell_type": "markdown",
      "metadata": {
        "id": "JC3BkD-67_--"
      },
      "source": [
        "11. Створіть список, де елементами цього списку також є списки. Отримай перший елемент з останнього рядка та виведи значення на екран."
      ]
    },
    {
      "cell_type": "code",
      "execution_count": null,
      "metadata": {
        "id": "Kz2jZHsGeLlz"
      },
      "outputs": [
        {
          "name": "stdout",
          "output_type": "stream",
          "text": [
            "7\n"
          ]
        }
      ],
      "source": [
        "l = [[1,2,3], [4,5,6], [7,8,9]]\n",
        "print(l[-1][0])"
      ]
    },
    {
      "attachments": {},
      "cell_type": "markdown",
      "metadata": {
        "id": "JA47PKTv8zFK"
      },
      "source": [
        "12. Створіть список з десяти елементів різного типу. Отримайте всі елементи, окрім двох перших та двох останніх та збережіть їх в новій змінній."
      ]
    },
    {
      "cell_type": "code",
      "execution_count": 14,
      "metadata": {
        "id": "_rHdUR-ueP4-"
      },
      "outputs": [
        {
          "name": "stdout",
          "output_type": "stream",
          "text": [
            "(True, '', (3+5j), [], {}, (1, 2, 3))\n"
          ]
        }
      ],
      "source": [
        "l = [1, 1.0, True, '', complex(3,5), [], {}, (1,2,3), set([1,2,3,3,4,5,5]), None]\n",
        "list_slice = l[2:-2]\n",
        "print(list_slice)"
      ]
    },
    {
      "attachments": {},
      "cell_type": "markdown",
      "metadata": {
        "id": "pCjR1dJb1Qbi"
      },
      "source": [
        "# V. Робота з кортежами."
      ]
    },
    {
      "attachments": {},
      "cell_type": "markdown",
      "metadata": {
        "id": "fAZCxAX06R_k"
      },
      "source": [
        "14. Створити кортеж з один елементом."
      ]
    },
    {
      "cell_type": "code",
      "execution_count": null,
      "metadata": {
        "id": "H7d82WkQev3e"
      },
      "outputs": [],
      "source": [
        "t = (True)"
      ]
    },
    {
      "attachments": {},
      "cell_type": "markdown",
      "metadata": {
        "id": "8LCtYcmI6w1M"
      },
      "source": [
        "15. Порівняйте список та кортеж. Назвіть схожості та відмінності, випадки використання."
      ]
    },
    {
      "attachments": {},
      "cell_type": "markdown",
      "metadata": {
        "id": "fUsN1Hnue0C6"
      },
      "source": [
        "Спільні риси\n",
        "- обидві структури данних є гетерогенними\n",
        "- упорядковані\n",
        "- підтримують індексацію, слайсінг\n",
        "- підтримують ітерування\n",
        "Відмінності\n",
        "- кортежі незмінні, а списки - ні"
      ]
    },
    {
      "attachments": {},
      "cell_type": "markdown",
      "metadata": {
        "id": "m0xrwFijAmDD"
      },
      "source": [
        "16. Створіть кортеж з 11ти елементів чисел з рухомою комою та отримайте кожен парний за індексом елемент в зворотньому порядку. Наприклад, маючи (1.2, 2.3, 3.3, 4.3, 5.3, 6.3, 7.3, 8.3, 9.3, 0.3), отримати (0.3, 8.3, 6.3, 4.3, 2.3). Результат збережіть в нову змінну та виведіть на екран."
      ]
    },
    {
      "cell_type": "code",
      "execution_count": 20,
      "metadata": {
        "id": "p-5DAH6XfAGA"
      },
      "outputs": [
        {
          "name": "stdout",
          "output_type": "stream",
          "text": [
            "(10, 8, 6, 4, 2)\n"
          ]
        }
      ],
      "source": [
        "t = (1,2,3,4,5,6,7,8,9,10,11)\n",
        "rt = t[-2:0:-2]\n",
        "print(rt)"
      ]
    },
    {
      "attachments": {},
      "cell_type": "markdown",
      "metadata": {
        "id": "rW_I9dt3x6cW"
      },
      "source": [
        "# VI. Множини (Set)."
      ]
    },
    {
      "attachments": {},
      "cell_type": "markdown",
      "metadata": {
        "id": "zNjRLHLw1Bgg"
      },
      "source": [
        "17. Створити множину без елементів. Після цого за допомогою методу додайте кілька різних елементів до множини. Чи множини є змінним типом даних?"
      ]
    },
    {
      "cell_type": "code",
      "execution_count": 49,
      "metadata": {
        "id": "KOv7zc2Kfo4N"
      },
      "outputs": [
        {
          "name": "stdout",
          "output_type": "stream",
          "text": [
            "[6, 9]\n",
            "[6, 9]\n"
          ]
        }
      ],
      "source": [
        "a = []\n",
        "b = a\n",
        "\n",
        "a.append(6)\n",
        "a.append(9)\n",
        "\n",
        "print(a)\n",
        "print(b)"
      ]
    },
    {
      "attachments": {},
      "cell_type": "markdown",
      "metadata": {
        "id": "vxS6dVYiftZQ"
      },
      "source": [
        "Так, вони є змінним типом данних"
      ]
    },
    {
      "attachments": {},
      "cell_type": "markdown",
      "metadata": {
        "id": "gHpT0Zw_1HEF"
      },
      "source": [
        "18. Створити множину, маючи список my_list = [1, 1, 2, 67, 67, 8, 9]. Пояснити, чому \"зникли\" деякі елементи."
      ]
    },
    {
      "cell_type": "code",
      "execution_count": 48,
      "metadata": {
        "id": "qCN4uvJ_fxmu"
      },
      "outputs": [
        {
          "name": "stdout",
          "output_type": "stream",
          "text": [
            "{1, 2, 67, 8, 9}\n"
          ]
        }
      ],
      "source": [
        "my_list = [1,1,2,67,67,8,9]\n",
        "my_set = set(my_list)\n",
        "print(my_set)"
      ]
    },
    {
      "attachments": {},
      "cell_type": "markdown",
      "metadata": {
        "id": "tFNc1e20fyny"
      },
      "source": [
        "Множини зберігають лише унікальні значення"
      ]
    },
    {
      "attachments": {},
      "cell_type": "markdown",
      "metadata": {
        "id": "SRMkGizS1UwY"
      },
      "source": [
        "19. Створіть дві множини. Продемонстуйте над ними операції: обʼєднання, різниці, пересічі та симетричної різниці. Використовуйте методи, що не змінюють множини, а створюють нові."
      ]
    },
    {
      "cell_type": "code",
      "execution_count": 24,
      "metadata": {
        "id": "h0T-VuDnf3Ri"
      },
      "outputs": [
        {
          "name": "stdout",
          "output_type": "stream",
          "text": [
            "{1, 2, 3, 4, 5, 6, 7}\n",
            "{1, 2}\n",
            "{3, 4, 5}\n",
            "{1, 2, 6, 7}\n"
          ]
        }
      ],
      "source": [
        "s1 = set([1,2,3,4,5])\n",
        "s2 = set([3,4,5,6,7])\n",
        "print(s1.union(s2))\n",
        "print(s1.difference(s2))\n",
        "print(s1.intersection(s2))\n",
        "print(s1.symmetric_difference(s2))"
      ]
    },
    {
      "attachments": {},
      "cell_type": "markdown",
      "metadata": {
        "id": "kWc8gkzTx7Ea"
      },
      "source": [
        "# VII. Словники (Dictionary)."
      ]
    },
    {
      "attachments": {},
      "cell_type": "markdown",
      "metadata": {
        "id": "i5FLwj-B2ybQ"
      },
      "source": [
        "20. Створіть пустий словник. До нього додайте чотири пари елементів такі, щоб їхні ключі були різних типів. Чи може список бути ключем? Чому?"
      ]
    },
    {
      "cell_type": "code",
      "execution_count": 43,
      "metadata": {
        "id": "hxgv3BzrgLAV"
      },
      "outputs": [
        {
          "name": "stdout",
          "output_type": "stream",
          "text": [
            "lists are unhashable, therefore they cannot be stored as a key in hashmap\n"
          ]
        }
      ],
      "source": [
        "dic = {}\n",
        "dic[True] = 2\n",
        "dic[2] = 3\n",
        "dic[3.0] = 4\n",
        "dic['4'] = 1\n",
        "\n",
        "try:\n",
        "    dic[[1,2,3]] =5\n",
        "except TypeError:\n",
        "    print(\"lists are unhashable, therefore they cannot be stored as a key in hashmap\")"
      ]
    },
    {
      "attachments": {},
      "cell_type": "markdown",
      "metadata": {
        "id": "zwa7UVN-gR3m"
      },
      "source": [
        "*місце для текстової відповіді"
      ]
    },
    {
      "attachments": {},
      "cell_type": "markdown",
      "metadata": {
        "id": "WM_pMlJsgoNf"
      },
      "source": [
        "21. Створіть словник, де значенням в одній з пар теж буде словник, який теж має вкладений словник. Виведіть на екран значення, що міститься в словнику, що знаходиться на найнижчому рівні ієрархії вкладеності (найбільш внутрішній)."
      ]
    },
    {
      "cell_type": "code",
      "execution_count": 46,
      "metadata": {
        "id": "60dlP7IHhAy4"
      },
      "outputs": [
        {
          "name": "stdout",
          "output_type": "stream",
          "text": [
            "True\n"
          ]
        }
      ],
      "source": [
        "a = { 1 : {1:False, 2:True}, 2 : {1:True, 2:False}}\n",
        "print(a[2][1])"
      ]
    },
    {
      "attachments": {},
      "cell_type": "markdown",
      "metadata": {
        "id": "xOZP0hkx6cCr"
      },
      "source": [
        "# Вітаю! Ви велика(ий) молодець, що впоралась(вся). Похваліть себе та побалуйте чимось приємним. Я Вами пишаюся."
      ]
    }
  ],
  "metadata": {
    "colab": {
      "provenance": []
    },
    "kernelspec": {
      "display_name": "Python 3",
      "name": "python3"
    },
    "language_info": {
      "codemirror_mode": {
        "name": "ipython",
        "version": 3
      },
      "file_extension": ".py",
      "mimetype": "text/x-python",
      "name": "python",
      "nbconvert_exporter": "python",
      "pygments_lexer": "ipython3",
      "version": "3.11.4"
    }
  },
  "nbformat": 4,
  "nbformat_minor": 0
}
