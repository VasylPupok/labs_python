{
  "cells": [
    {
      "attachments": {},
      "cell_type": "markdown",
      "metadata": {
        "id": "5qV_sehzFCTp"
      },
      "source": [
        "# I. OOP"
      ]
    },
    {
      "attachments": {},
      "cell_type": "markdown",
      "metadata": {
        "id": "tx_U_hOALyfg"
      },
      "source": [
        "1. (6б). Створіть клас Animal, додайте три атрибути, один з яких має значення за замовчуванням та два методи на свій розсуд."
      ]
    },
    {
      "cell_type": "code",
      "execution_count": 1,
      "metadata": {
        "id": "-Vf895KaL88N"
      },
      "outputs": [],
      "source": [
        "class Animal:\n",
        "    def __init__(self, name: str, age: int, cuteness: int = 100) -> None:\n",
        "        self._name = name\n",
        "        self._age = age\n",
        "        self._cuteness = cuteness\n",
        "        \n",
        "    def get_name(self) -> str:\n",
        "        return self._name\n",
        "    \n",
        "    def set_name(self, name: str) -> None:\n",
        "        self._name = name"
      ]
    },
    {
      "attachments": {},
      "cell_type": "markdown",
      "metadata": {
        "id": "X_UlOMB0L93w"
      },
      "source": [
        "2. (2б). Створіть два обʼєкти цього класу, де один з обʼєктів створюється із дефолтним значенням атрибуту. На одному обʼєкті отримайте значення його атрибуту, а на іншому викличте один з його методів."
      ]
    },
    {
      "cell_type": "code",
      "execution_count": null,
      "metadata": {
        "id": "7gBu0ESOMCpG"
      },
      "outputs": [],
      "source": [
        "wolf = Animal(\"wolf\", 5)\n",
        "cat = Animal(\"cat\", 3, 9999999)"
      ]
    },
    {
      "attachments": {},
      "cell_type": "markdown",
      "metadata": {
        "id": "HoqSCZt1MHn5"
      },
      "source": [
        "3. (5б). Створіть клас, де атрибути мають різні рівні доступу. Спробуйте отримати їхні значення та опишіть результати."
      ]
    },
    {
      "cell_type": "code",
      "execution_count": 36,
      "metadata": {
        "id": "r9b3vJxBMSPV"
      },
      "outputs": [
        {
          "name": "stdout",
          "output_type": "stream",
          "text": [
            "I'm public\n",
            "I'm protected\n",
            "I'm also protected\n",
            "I'm also protected\n",
            "I'm private\n",
            "New value of private: Private\n",
            "Lol\n",
            "Kek\n",
            "Cheburek\n",
            "Private\n"
          ]
        }
      ],
      "source": [
        "class MyClass:\n",
        "    def __init__(self) -> None:\n",
        "        self.__private = \"I'm private\"\n",
        "        self._protected = \"I'm protected\"\n",
        "        self._also_protected = \"I'm also protected\"\n",
        "        self.public = \"I'm public\"\n",
        "    \n",
        "    @property\n",
        "    def also_protected(self):\n",
        "        return self._also_protected\n",
        "    \n",
        "    @also_protected.setter\n",
        "    def also_protected(self, new_value):\n",
        "        self._also_protected = new_value\n",
        "        \n",
        "    @property\n",
        "    def private(self):\n",
        "        return self.__private\n",
        "    \n",
        "    # If we don't have this method we won't be able to modify private value\n",
        "    @private.setter\n",
        "    def private(self, new_value):\n",
        "        print(f\"New value of private: {new_value}\")\n",
        "        self.__private = new_value\n",
        "    \n",
        "x = MyClass()\n",
        "\n",
        "print(x.public)\n",
        "print(x._protected)\n",
        "print(x.also_protected) # we should do this\n",
        "print(x._also_protected) # yet we still can do this\n",
        "# print(x.__private) # AttributeError\n",
        "print(x.private) # but we can write property and access it \n",
        "\n",
        "x.public = \"Lol\"\n",
        "x._protected = \"Kek\"\n",
        "x._also_protected = \"Cheburek\"\n",
        "x.private = \"Private\" # no setter - no modifying btw\n",
        "\n",
        "# And values are changed\n",
        "print(x.public)\n",
        "print(x._protected)\n",
        "print(x._also_protected)\n",
        "print(x.private)\n",
        "\n",
        "\n",
        "\n"
      ]
    },
    {
      "attachments": {},
      "cell_type": "markdown",
      "metadata": {
        "id": "5op2m2vgMSkZ"
      },
      "source": [
        "4. (7б). Як ви розумієте термін self? Для чого використовується метод __init __?"
      ]
    },
    {
      "attachments": {},
      "cell_type": "markdown",
      "metadata": {
        "id": "DyiPqNRvMasx"
      },
      "source": [
        "self - це об'єкт класу, для якого викликається метод цього ж класу. Це ключове слово є аналогом this у С подібних мовах"
      ]
    },
    {
      "attachments": {},
      "cell_type": "markdown",
      "metadata": {
        "id": "-6X8EGfjMd2y"
      },
      "source": [
        "5. (9б). Створіть клас Фігура без атрибутів, з методом get_area для отримання площі фігури, що повертає 0 та __add __, який приймає self та other в якості аргументів, а повертає суму площин фігур self та other."
      ]
    },
    {
      "cell_type": "code",
      "execution_count": 38,
      "metadata": {
        "id": "4rvO_wYUMaEr"
      },
      "outputs": [],
      "source": [
        "class Figure:\n",
        "    def get_area(self) -> float:\n",
        "        return 0\n",
        "    \n",
        "    def __add__(self, other) -> float:\n",
        "        return self.get_area() + other.get_area()"
      ]
    },
    {
      "attachments": {},
      "cell_type": "markdown",
      "metadata": {
        "id": "SFcKnnv5Mo_z"
      },
      "source": [
        "6. (11б). Створіть 2 дочірніх класи від Фігури: Трикутник та Коло, які мають атрибути, необхідні для розрахунку площин. Визначте метод get_area в кожному з них так, щоби вони розраховували площу в залежності від формули для кожного типу фігури. Створіть обʼєкт класу Трикутник та обʼєкт класу Коло. Виконайте операцію суми за допомогою оператора + між ними."
      ]
    },
    {
      "cell_type": "code",
      "execution_count": 47,
      "metadata": {
        "id": "H3GVNr69Muf3"
      },
      "outputs": [
        {
          "name": "stdout",
          "output_type": "stream",
          "text": [
            "56.26548245743669\n"
          ]
        }
      ],
      "source": [
        "from math import pi, sqrt\n",
        "\n",
        "class Triangle(Figure):\n",
        "    \n",
        "    def __init__(self, a: float, b: float, c: float) -> None:\n",
        "        self.__a = a\n",
        "        self.__b = b\n",
        "        self.__c = c\n",
        "        super().__init__()\n",
        "    \n",
        "    @property\n",
        "    def a(self) -> float:\n",
        "        return self.__a\n",
        "    \n",
        "    @property\n",
        "    def b(self) -> float:\n",
        "        return self.__b\n",
        "    \n",
        "    @property\n",
        "    def c(self) -> float:\n",
        "        return self.__c\n",
        "    \n",
        "    def get_area(self):\n",
        "        s = (self.a + self.b + self.c) / 2\n",
        "        return sqrt(s * (s - self.a) * (s - self.b) * (s - self.c))\n",
        "    \n",
        "    \n",
        "class Circle(Figure):\n",
        "    \n",
        "    def __init__(self, radius: float) -> None:\n",
        "        self.__radius = radius\n",
        "        super().__init__()\n",
        "        \n",
        "    @property\n",
        "    def radius(self) -> float:\n",
        "        return self.__radius\n",
        "    \n",
        "    def get_area(self) -> float:\n",
        "        return pi * self.radius ** 2\n",
        "    \n",
        "triangle = Triangle(3,4,5)\n",
        "circle = Circle(4)\n",
        "print(str(triangle + circle))\n",
        "\n",
        "    "
      ]
    },
    {
      "attachments": {},
      "cell_type": "markdown",
      "metadata": {
        "id": "HCvR206YMvLK"
      },
      "source": [
        "7. (3б). Продемонструйте різницю між isinstance та issubclass."
      ]
    },
    {
      "cell_type": "code",
      "execution_count": 21,
      "metadata": {
        "id": "L_V1bBvDM0GN"
      },
      "outputs": [
        {
          "name": "stdout",
          "output_type": "stream",
          "text": [
            "issublass() takes type objects as parameters\n",
            "A is subclass A: True\n",
            "B is subclass A: True\n",
            "A is subclass B: False\n",
            "B is subclass B: True\n",
            "isinstance() tells if given object is instance of given type\n",
            "a is instance of class A: True\n",
            "b is instance of class A: True\n",
            "a is instance of class B: False\n",
            "b is instance of class B: True\n",
            "isinstance() does not compare types, but type of first argument and second argument\n",
            "class A is instance of class A: False\n",
            "class B is instance of class A: False\n",
            "class A is instance of class type: True\n",
            "class B is instance of class type: True\n"
          ]
        }
      ],
      "source": [
        "class A:\n",
        "    pass\n",
        "\n",
        "class B(A):\n",
        "    pass\n",
        "\n",
        "a = A()\n",
        "b = B()\n",
        "\n",
        "print(\"issublass() takes type objects as parameters\")\n",
        "print(f\"A is subclass A: {issubclass(A, A)}\")\n",
        "print(f\"B is subclass A: {issubclass(B, A)}\")\n",
        "print(f\"A is subclass B: {issubclass(A, B)}\")\n",
        "print(f\"B is subclass B: {issubclass(B, B)}\")\n",
        "\n",
        "# issublass() does not take instances of classes as parameters\"\n",
        "# Following code will throw TypeError\n",
        "# print(f\"a is subclass A: {issubclass(a, A)}\")\n",
        "# print(f\"b is subclass A: {issubclass(b, A)}\")\n",
        "# print(f\"a is subclass B: {issubclass(a, B)}\")\n",
        "# print(f\"b is subclass B: {issubclass(b, B)}\")\n",
        "\n",
        "print(\"isinstance() tells if given object is instance of given type\")\n",
        "print(f\"a is instance of class A: {isinstance(a, A)}\")\n",
        "print(f\"b is instance of class A: {isinstance(b, A)}\")\n",
        "print(f\"a is instance of class B: {isinstance(a, B)}\")\n",
        "print(f\"b is instance of class B: {isinstance(b, B)}\")\n",
        "\n",
        "print(\"isinstance() does not compare types, but type of first argument and second argument\")\n",
        "print(f\"class A is instance of class A: {isinstance(A, A)}\")\n",
        "print(f\"class B is instance of class A: {isinstance(B, B)}\")\n",
        "print(f\"class A is instance of class {A.__class__.__qualname__}: {isinstance(A, A.__class__)}\")\n",
        "print(f\"class B is instance of class {B.__class__.__qualname__}: {isinstance(B, B.__class__)}\")\n",
        "\n"
      ]
    },
    {
      "attachments": {},
      "cell_type": "markdown",
      "metadata": {
        "id": "jjsaBZ-iM0Qq"
      },
      "source": [
        "8. (13б). Створіть клас BankAccount з приватними атрибутами balance та account_number. Реалізуйте методи поповнення та зняття коштів, забезпечивши належну інкапсуляцію. Підказка: використовуйте декоратори property та setter."
      ]
    },
    {
      "cell_type": "code",
      "execution_count": null,
      "metadata": {
        "id": "xCvZ7lh8M7YA"
      },
      "outputs": [],
      "source": [
        "class BankAccount:\n",
        "    def __init__(self, balance, account_number) -> None:\n",
        "        self.__balance = balance\n",
        "        self.__account_number = account_number\n",
        "        \n",
        "    @property\n",
        "    def balance(self):\n",
        "        return self.__balance\n",
        "    \n",
        "    @property\n",
        "    def account_number(self):\n",
        "        return self.__account_number\n",
        "    \n",
        "    def deposit_money(self, money):\n",
        "        if (money < 0):\n",
        "            raise ValueError(money)\n",
        "        self.__balance += money\n",
        "        \n",
        "    def withdraw_money(self, money):\n",
        "        if (money < 0):\n",
        "            raise ValueError(money)\n",
        "        elif (money > self.balance):\n",
        "            raise ValueError(money)\n",
        "        \n",
        "        self.__balance -= money\n",
        "        \n",
        "    "
      ]
    },
    {
      "attachments": {},
      "cell_type": "markdown",
      "metadata": {
        "id": "tIzL2SJTM8ft"
      },
      "source": [
        "9. (11б). Створіть клас Library, який містить список об'єктів типу Book. Реалізуйте методи для додавання книги, видалення книги та відображення списку книг."
      ]
    },
    {
      "cell_type": "code",
      "execution_count": null,
      "metadata": {
        "id": "HWxfJKLtNAUZ"
      },
      "outputs": [],
      "source": []
    },
    {
      "attachments": {},
      "cell_type": "markdown",
      "metadata": {
        "id": "lmV8pAwwNIqu"
      },
      "source": [
        "10. (13б). Створіть клас Person з атрибутами name та age. Створіть ще один клас Employee з такими атрибутами, як department та salary. Створіть клас Manager, який успадковує обидва класи Person та Employee. Продемонструйте використання множинної спадковості, створивши обʼєкт класу Manager та отримавши mro для цього класу."
      ]
    },
    {
      "cell_type": "code",
      "execution_count": null,
      "metadata": {
        "id": "R49grKlWNPeN"
      },
      "outputs": [],
      "source": []
    },
    {
      "attachments": {},
      "cell_type": "markdown",
      "metadata": {
        "id": "dIJyUiNBFG8G"
      },
      "source": [
        "# II. Iterator"
      ]
    },
    {
      "attachments": {},
      "cell_type": "markdown",
      "metadata": {
        "id": "13vsm0NyKIzL"
      },
      "source": [
        "11. (4б). Визначте рядок(str) з 4ма різними за значенням символами. Створіть ітератор на основі цього рядка. Викличте 5 разів функцію next на ітераторі, 4ри перших з них огорніть у ф-цію print()."
      ]
    },
    {
      "cell_type": "code",
      "execution_count": 53,
      "metadata": {
        "id": "81ntabAkKuz-"
      },
      "outputs": [
        {
          "name": "stdout",
          "output_type": "stream",
          "text": [
            "a\n",
            "b\n",
            "c\n",
            "d\n"
          ]
        },
        {
          "data": {
            "text/plain": [
              "'e'"
            ]
          },
          "execution_count": 53,
          "metadata": {},
          "output_type": "execute_result"
        }
      ],
      "source": [
        "some_str = \"abcdefg\"\n",
        "str_iter = some_str.__iter__()\n",
        "for i in range(4):\n",
        "    print(next(str_iter))\n",
        "next(str_iter)"
      ]
    },
    {
      "attachments": {},
      "cell_type": "markdown",
      "metadata": {
        "id": "aekWHGXOLRsO"
      },
      "source": [
        "А що якщо викликати цю ж функцію на рядку?"
      ]
    },
    {
      "cell_type": "code",
      "execution_count": 55,
      "metadata": {
        "id": "mxATGsErLV1i"
      },
      "outputs": [
        {
          "ename": "TypeError",
          "evalue": "'str' object is not an iterator",
          "output_type": "error",
          "traceback": [
            "\u001b[1;31m---------------------------------------------------------------------------\u001b[0m",
            "\u001b[1;31mTypeError\u001b[0m                                 Traceback (most recent call last)",
            "Cell \u001b[1;32mIn[55], line 2\u001b[0m\n\u001b[0;32m      1\u001b[0m \u001b[39mfor\u001b[39;00m i \u001b[39min\u001b[39;00m \u001b[39mrange\u001b[39m(\u001b[39m4\u001b[39m):\n\u001b[1;32m----> 2\u001b[0m     \u001b[39mprint\u001b[39m(\u001b[39mnext\u001b[39;49m(some_str))\n\u001b[0;32m      3\u001b[0m \u001b[39mnext\u001b[39m(some_str)\n",
            "\u001b[1;31mTypeError\u001b[0m: 'str' object is not an iterator"
          ]
        }
      ],
      "source": [
        "for i in range(4):\n",
        "    print(next(some_str)) # str is not an iterator\n",
        "next(some_str)"
      ]
    },
    {
      "attachments": {},
      "cell_type": "markdown",
      "metadata": {
        "id": "XwtMEopwJ4pH"
      },
      "source": [
        " 12. (5б). Опишіть своїми словами в одному реченні, як ви розумієте різницю між ітерабельними обʼєктами та ітераторами (можна на прикладі)."
      ]
    },
    {
      "attachments": {},
      "cell_type": "markdown",
      "metadata": {
        "id": "-sHrODc3KFn8"
      },
      "source": []
    },
    {
      "attachments": {},
      "cell_type": "markdown",
      "metadata": {
        "id": "E9qJWmNbK8Gl"
      },
      "source": [
        "13. (11б). Створіть клас, що має визначений Iterator Protocol та при кожному виклику next повертає літери англійської абетки, поки вони не вичерпаються."
      ]
    },
    {
      "cell_type": "code",
      "execution_count": null,
      "metadata": {
        "id": "cqx-g_RsLo6I"
      },
      "outputs": [],
      "source": []
    },
    {
      "attachments": {},
      "cell_type": "markdown",
      "metadata": {
        "id": "Z3E3S_s1Fv7-"
      },
      "source": [
        "# Вітаю! Ви велика(ий) молодець, що впоралась(вся). Похваліть себе та побалуйте чимось приємним. Я Вами пишаюся."
      ]
    }
  ],
  "metadata": {
    "colab": {
      "provenance": []
    },
    "kernelspec": {
      "display_name": "Python 3",
      "name": "python3"
    },
    "language_info": {
      "codemirror_mode": {
        "name": "ipython",
        "version": 3
      },
      "file_extension": ".py",
      "mimetype": "text/x-python",
      "name": "python",
      "nbconvert_exporter": "python",
      "pygments_lexer": "ipython3",
      "version": "3.11.4"
    }
  },
  "nbformat": 4,
  "nbformat_minor": 0
}
